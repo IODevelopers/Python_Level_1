{
  "nbformat": 4,
  "nbformat_minor": 0,
  "metadata": {
    "colab": {
      "name": "Python Workshop Level 1",
      "version": "0.3.2",
      "provenance": [],
      "include_colab_link": true
    },
    "kernelspec": {
      "name": "python3",
      "display_name": "Python 3"
    }
  },
  "cells": [
    {
      "cell_type": "markdown",
      "metadata": {
        "id": "view-in-github",
        "colab_type": "text"
      },
      "source": [
        "[View in Colaboratory](https://colab.research.google.com/github/martin-raven/Python_Level_1/blob/master/Python_Workshop_Level_1.ipynb)"
      ]
    },
    {
      "metadata": {
        "id": "ZcLm9AIAHZp3",
        "colab_type": "text"
      },
      "cell_type": "markdown",
      "source": [
        "\n",
        "\n",
        "\n",
        "![](https://s3.ap-south-1.amazonaws.com/workshoppython1/LOGO+IODev+ev+center+HQ.png)\n",
        "\n",
        "\n",
        "\n",
        "\n",
        "# **Welcome to the Workshop By IODev on Python**\n",
        "\n",
        "\n",
        "\n",
        "\n",
        "\n",
        "\n"
      ]
    },
    {
      "metadata": {
        "id": "yzOr-kdIf0AA",
        "colab_type": "text"
      },
      "cell_type": "markdown",
      "source": [
        "## Why is python easier?\n",
        "---\n",
        "![alt text](https://qph.fs.quoracdn.net/main-qimg-4b668ad2c9f0185fc11c6eddeb0590cc-c)"
      ]
    },
    {
      "metadata": {
        "id": "Sa6PeXY6k9y4",
        "colab_type": "text"
      },
      "cell_type": "markdown",
      "source": [
        "# **What is not programming**\n",
        "---\n",
        "![alt text](https://media0.giphy.com/media/ZVik7pBtu9dNS/200.gif?cid=3640f6095bb253e44962756e771e3c14)"
      ]
    },
    {
      "metadata": {
        "id": "HMtCPMHc2bue",
        "colab_type": "text"
      },
      "cell_type": "markdown",
      "source": [
        "**Does learning python pay off**\n",
        "---\n",
        "\n",
        "![alt text](http://www.codingdojo.com/blog/wp-content/uploads/2018-developer-job-listings-for-most-popular-programming-languages1.jpg)"
      ]
    },
    {
      "metadata": {
        "id": "rHRymecL26gv",
        "colab_type": "text"
      },
      "cell_type": "markdown",
      "source": [
        "**Who uses python?**\n",
        "\n",
        "\n",
        "---\n",
        "\n",
        "\n",
        "\n",
        "![alt text](https://www.probytes.net/wp-content/uploads/2018/08/appl.png)"
      ]
    },
    {
      "metadata": {
        "id": "DVAu45zXIXwO",
        "colab_type": "text"
      },
      "cell_type": "markdown",
      "source": [
        "![alt text](https://encrypted-tbn0.gstatic.com/images?q=tbn:ANd9GcRhwVPVA4JdA45AcCm8HXsLnoPWRW7xICDK90ug7jZ9ToWWMApi)\n",
        "\n",
        "\n",
        "**Appo Thudagam?**"
      ]
    },
    {
      "metadata": {
        "id": "qudp9h-b_lPw",
        "colab_type": "code",
        "colab": {}
      },
      "cell_type": "code",
      "source": [
        "# First Program"
      ],
      "execution_count": 0,
      "outputs": []
    },
    {
      "metadata": {
        "id": "N2Q0FI12Ig4z",
        "colab_type": "text"
      },
      "cell_type": "markdown",
      "source": [
        "Datatype enna sambhavam?\n",
        "![alt text](http://i.ebayimg.com/00/s/NDgwWDQ4MA==/z/~H0AAOxyUrZS-txs/$_3.JPG?set_id=2)\n",
        "\n",
        "![alt text](https://images-na.ssl-images-amazon.com/images/I/41qNFgJqvVL._SY355_.jpg)"
      ]
    },
    {
      "metadata": {
        "id": "756cGMUS_9d1",
        "colab_type": "code",
        "colab": {}
      },
      "cell_type": "code",
      "source": [
        "# DataTypes"
      ],
      "execution_count": 0,
      "outputs": []
    },
    {
      "metadata": {
        "id": "XfRCU_zrAEAk",
        "colab_type": "code",
        "colab": {}
      },
      "cell_type": "code",
      "source": [
        "# Variables\n",
        "# int,float,str,boolean"
      ],
      "execution_count": 0,
      "outputs": []
    },
    {
      "metadata": {
        "id": "ZEWCS094ASwD",
        "colab_type": "code",
        "colab": {}
      },
      "cell_type": "code",
      "source": [
        "# Identation"
      ],
      "execution_count": 0,
      "outputs": []
    },
    {
      "metadata": {
        "id": "6o8VWOsCAdyT",
        "colab_type": "code",
        "colab": {}
      },
      "cell_type": "code",
      "source": [
        "# List\n",
        "# help(list)"
      ],
      "execution_count": 0,
      "outputs": []
    },
    {
      "metadata": {
        "id": "8PhFKQ8mBWoH",
        "colab_type": "code",
        "colab": {}
      },
      "cell_type": "code",
      "source": [
        "# Set\n"
      ],
      "execution_count": 0,
      "outputs": []
    },
    {
      "metadata": {
        "id": "6dQJ0sEpBXu_",
        "colab_type": "code",
        "colab": {}
      },
      "cell_type": "code",
      "source": [
        "# Dict"
      ],
      "execution_count": 0,
      "outputs": []
    },
    {
      "metadata": {
        "id": "yHy7eU6cGGBh",
        "colab_type": "text"
      },
      "cell_type": "markdown",
      "source": [
        "# Comments\n",
        "\n",
        "Comments are lines of code/text that is ignored by the interperter"
      ]
    },
    {
      "metadata": {
        "id": "IBADgahzGbJY",
        "colab_type": "code",
        "colab": {
          "base_uri": "https://localhost:8080/",
          "height": 52
        },
        "outputId": "c2966659-ee92-416c-a7db-d38f3b07dabe"
      },
      "cell_type": "code",
      "source": [
        "#Ikka Mass Aaanu Mwone\n",
        "print(\"Do you have Anthassu?\")\n",
        "\n",
        "print (\"i have \",1+1)"
      ],
      "execution_count": 1,
      "outputs": [
        {
          "output_type": "stream",
          "text": [
            "Do you have Anthassu?\n",
            "i have  2\n"
          ],
          "name": "stdout"
        }
      ]
    },
    {
      "metadata": {
        "id": "0Kaxg04GGjwR",
        "colab_type": "text"
      },
      "cell_type": "markdown",
      "source": [
        "is a single line comment\n"
      ]
    },
    {
      "metadata": {
        "id": "A099cXtxGpMj",
        "colab_type": "code",
        "colab": {
          "base_uri": "https://localhost:8080/",
          "height": 35
        },
        "outputId": "407cbd13-b685-4042-8020-bf8c2b57c8a6"
      },
      "cell_type": "code",
      "source": [
        "\"\"\" Commondra Maheshee \n",
        "    You too can code daa  \n",
        "\"\"\"\n",
        "print(\"sadhanam kayil undo?\")"
      ],
      "execution_count": 2,
      "outputs": [
        {
          "output_type": "stream",
          "text": [
            "sadhanam kayil undo?\n"
          ],
          "name": "stdout"
        }
      ]
    },
    {
      "metadata": {
        "id": "1qBCHeI0HJXu",
        "colab_type": "text"
      },
      "cell_type": "markdown",
      "source": [
        "is  a multiline comment"
      ]
    },
    {
      "metadata": {
        "id": "8KZu9uPOG5IK",
        "colab_type": "code",
        "colab": {}
      },
      "cell_type": "code",
      "source": [
        ""
      ],
      "execution_count": 0,
      "outputs": []
    }
  ]
}