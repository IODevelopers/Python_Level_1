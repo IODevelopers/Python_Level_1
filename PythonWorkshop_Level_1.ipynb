{
  "nbformat": 4,
  "nbformat_minor": 0,
  "metadata": {
    "colab": {
      "name": "PythonWorkshop Level 1",
      "version": "0.3.2",
      "provenance": [],
      "include_colab_link": true
    }
  },
  "cells": [
    {
      "cell_type": "markdown",
      "metadata": {
        "id": "view-in-github",
        "colab_type": "text"
      },
      "source": [
        "[View in Colaboratory](https://colab.research.google.com/github/martin-raven/Python_Level_1/blob/master/PythonWorkshop_Level_1.ipynb)"
      ]
    },
    {
      "metadata": {
        "id": "ZcLm9AIAHZp3",
        "colab_type": "text"
      },
      "cell_type": "markdown",
      "source": [
        "\n",
        "\n",
        "\n",
        "![](https://s3.ap-south-1.amazonaws.com/workshoppython1/LOGO+IODev+ev+center+HQ.png)\n",
        "\n",
        "\n",
        "\n",
        "\n",
        "# **Welcome to the Workshop By IODev on Python**\n",
        "\n",
        "\n",
        "\n",
        "\n",
        "\n",
        "\n"
      ]
    },
    {
      "metadata": {
        "id": "ZVCOmL7xJXqs",
        "colab_type": "code",
        "colab": {}
      },
      "cell_type": "code",
      "source": [
        ""
      ],
      "execution_count": 0,
      "outputs": []
    }
  ]
}